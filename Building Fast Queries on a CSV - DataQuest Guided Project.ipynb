{
 "cells": [
  {
   "cell_type": "markdown",
   "metadata": {},
   "source": [
    "# Building Fast Queries on a CSV\n",
    "\n",
    "In this project, we will imagine that we own an online laptop store and want to build a way to answer a few different business questions about our inventory.\n",
    "\n",
    "We will use the `laptops.csv` file as our inventory. This CSV file was adapted from the [Laptop Prices dataset on Kaggle](https://www.kaggle.com/ionaskel/laptop-prices). We changed the IDs and made the prices integers.\n",
    "\n",
    "Here are the first few rows of the dataset:"
   ]
  },
  {
   "cell_type": "code",
   "execution_count": 1,
   "metadata": {},
   "outputs": [
    {
     "name": "stdout",
     "output_type": "stream",
     "text": [
      "['Id', 'Company', 'Product', 'TypeName', 'Inches', 'ScreenResolution', 'Cpu', 'Ram', 'Memory', 'Gpu', 'OpSys', 'Weight', 'Price']\n",
      "\n",
      "\n",
      "['6571244', 'Apple', 'MacBook Pro', 'Ultrabook', '13.3', 'IPS Panel Retina Display 2560x1600', 'Intel Core i5 2.3GHz', '8GB', '128GB SSD', 'Intel Iris Plus Graphics 640', 'macOS', '1.37kg', '1339']\n",
      "\n",
      "\n",
      "['7287764', 'Apple', 'Macbook Air', 'Ultrabook', '13.3', '1440x900', 'Intel Core i5 1.8GHz', '8GB', '128GB Flash Storage', 'Intel HD Graphics 6000', 'macOS', '1.34kg', '898']\n",
      "\n",
      "\n",
      "['3362737', 'HP', '250 G6', 'Notebook', '15.6', 'Full HD 1920x1080', 'Intel Core i5 7200U 2.5GHz', '8GB', '256GB SSD', 'Intel HD Graphics 620', 'No OS', '1.86kg', '575']\n",
      "\n",
      "\n",
      "['9722156', 'Apple', 'MacBook Pro', 'Ultrabook', '15.4', 'IPS Panel Retina Display 2880x1800', 'Intel Core i7 2.7GHz', '16GB', '512GB SSD', 'AMD Radeon Pro 455', 'macOS', '1.83kg', '2537']\n",
      "\n",
      "\n",
      "['8550527', 'Apple', 'MacBook Pro', 'Ultrabook', '13.3', 'IPS Panel Retina Display 2560x1600', 'Intel Core i5 3.1GHz', '8GB', '256GB SSD', 'Intel Iris Plus Graphics 650', 'macOS', '1.37kg', '1803']\n",
      "\n",
      "\n"
     ]
    }
   ],
   "source": [
    "import csv\n",
    "\n",
    "with open('laptops.csv') as file:\n",
    "    rows = list(csv.reader(file))\n",
    "    header = rows[0]\n",
    "    rows = rows[1:]\n",
    "    print(header)\n",
    "    print('\\n')\n",
    "    for row in rows[:5]:\n",
    "        print(row)\n",
    "        print('\\n')"
   ]
  },
  {
   "cell_type": "markdown",
   "metadata": {},
   "source": [
    "Here is a brief description of the rows:\n",
    "\n",
    "+ **ID**: A unique identifier for the laptop.\n",
    "+ **Company**: The name of the company that produces the laptop.\n",
    "+ **Product**: The name of the laptop.\n",
    "+ **TypeName**: The type of laptop.\n",
    "+ **Inches**: The size of the screen in inches.\n",
    "+ **ScreenResolution**: The resolution of the screen.\n",
    "+ **CPU**: The laptop CPU.\n",
    "+ **RAM**: The amount of RAM in the laptop.\n",
    "+ **Memory**: The size of the hard drive.\n",
    "+ **GPU**: The graphics card name.\n",
    "+ **OpSys**: The name of the operating system.\n",
    "+ **Weight**: The laptop weight.\n",
    "+ **Price**: The price of the laptop.\n",
    "\n",
    "Let's explore the data and print the first few rows before we start implementing a way to represent this data as the store inventory.\n",
    "\n",
    "## Inventory Class\n",
    "\n",
    "The goal of this project is to create a class that represents our inventory. The methods in that class will implement the queries that we want to answer about our inventory. We will also preprocess that data to make those queries run faster.\n",
    "\n",
    "Here are some queries that we will want to answer:\n",
    "\n",
    "+ Given a laptop id, find the corresponding data.\n",
    "+ Given an amount of money, find whether there are two laptops whose total price is that given amount.\n",
    "\n",
    "Identify all laptops whose price falls within a given budget.\n",
    "Let's start by implementing the constructor. It will take the name of the CSV file as argument and then read the rows contained in it."
   ]
  },
  {
   "cell_type": "code",
   "execution_count": 2,
   "metadata": {},
   "outputs": [
    {
     "name": "stdout",
     "output_type": "stream",
     "text": [
      "['Id', 'Company', 'Product', 'TypeName', 'Inches', 'ScreenResolution', 'Cpu', 'Ram', 'Memory', 'Gpu', 'OpSys', 'Weight', 'Price']\n",
      "1303\n"
     ]
    }
   ],
   "source": [
    "class Inventory():\n",
    "    \n",
    "    def __init__(self, csv_filename):\n",
    "        with open(csv_filename) as f: \n",
    "            reader = csv.reader(f)\n",
    "            rows = list(csv.reader(f))\n",
    "        self.header = rows[0]         \n",
    "        self.rows = rows[1:]\n",
    "        for row in self.rows:         \n",
    "            row[-1] = int(row[-1])\n",
    "            \n",
    "inventory = Inventory('laptops.csv')\n",
    "print(inventory.header)\n",
    "print(len(inventory.rows))"
   ]
  },
  {
   "cell_type": "markdown",
   "metadata": {},
   "source": [
    "## Finding a Laptop from the ID\n",
    "\n",
    "The first thing that we will implement is a way to look up a laptop from a given identifier. In this way, when a customer comes to our store with a purchase slip, we can quickly identify the laptop to which it corresponds.\n",
    "\n",
    "![](https://dq-content.s3.amazonaws.com/481/laptop_id_search.gif)\n",
    "\n",
    "For this, we will write a function named `get_laptop_from_id()`. This function will take as argument the identifier of the laptop and return the full row of the laptop with that id."
   ]
  },
  {
   "cell_type": "code",
   "execution_count": 3,
   "metadata": {},
   "outputs": [
    {
     "name": "stdout",
     "output_type": "stream",
     "text": [
      "['3362737', 'HP', '250 G6', 'Notebook', '15.6', 'Full HD 1920x1080', 'Intel Core i5 7200U 2.5GHz', '8GB', '256GB SSD', 'Intel HD Graphics 620', 'No OS', '1.86kg', 575]\n",
      "None\n"
     ]
    }
   ],
   "source": [
    "class Inventory():\n",
    "    def __init__(self, csv_filename):\n",
    "        with open(csv_filename) as f: \n",
    "            reader = csv.reader(f)\n",
    "            rows = list(csv.reader(f))\n",
    "        self.header = rows[0]         \n",
    "        self.rows = rows[1:]\n",
    "        for row in self.rows:         \n",
    "            row[-1] = int(row[-1])\n",
    "            \n",
    "    def get_laptop_from_id(self, laptop_id):\n",
    "        for row in self.rows:\n",
    "            if row[0] == laptop_id:\n",
    "                return row\n",
    "        return None\n",
    "            \n",
    "inventory = Inventory('laptops.csv')\n",
    "print(inventory.get_laptop_from_id('3362737'))\n",
    "print(inventory.get_laptop_from_id('3362736'))"
   ]
  },
  {
   "cell_type": "markdown",
   "metadata": {},
   "source": [
    "## Improving Id Lookups\n",
    "\n",
    "This algorithm requires us to look at every single row to find the one that we are looking for (or decide that such a row does not exist). It has time complexity *O(R)* where *R* is the number of rows.\n",
    "\n",
    "We can solve this problem more efficiently by preprocessing the data. Using a set, we can check in constant time whether a given identifier exists. However, we don't just want to know if it exists, we also want to retrieve the remaining row information. Therefore, we will use a dictionary instead of a set. Dictionaries have the same fast lookup properties that sets have, but allow us to associate values to the keys.\n",
    "\n",
    "The idea is proceprocess the data into a dictionary where the keys are the IDs and the values the rows. Then, we will use that dictionary in the `get_laptop_from_id()` method. We can do this by:\n",
    "\n",
    "1. Preprocess the data and create the dictionary in the `__init__()` method.\n",
    "2. Re-implement the `get_laptop_from_id()` method. We will do it as a new method so that we can compare the two."
   ]
  },
  {
   "cell_type": "code",
   "execution_count": 4,
   "metadata": {},
   "outputs": [
    {
     "name": "stdout",
     "output_type": "stream",
     "text": [
      "['3362737', 'HP', '250 G6', 'Notebook', '15.6', 'Full HD 1920x1080', 'Intel Core i5 7200U 2.5GHz', '8GB', '256GB SSD', 'Intel HD Graphics 620', 'No OS', '1.86kg', 575]\n",
      "None\n"
     ]
    }
   ],
   "source": [
    "class Inventory():\n",
    "    def __init__(self, csv_filename):\n",
    "        with open(csv_filename) as f: \n",
    "            reader = csv.reader(f)\n",
    "            rows = list(csv.reader(f))\n",
    "        self.header = rows[0]         \n",
    "        self.rows = rows[1:]\n",
    "        for row in self.rows:         \n",
    "            row[-1] = int(row[-1])\n",
    "        self.id_to_row = {}   \n",
    "        for row in self.rows:\n",
    "            self.id_to_row[row[0]] = row\n",
    "    \n",
    "    def get_laptop_from_id(self, laptop_id):\n",
    "        for row in self.rows:\n",
    "            if row[0] == laptop_id:\n",
    "                return row\n",
    "        return None\n",
    "    \n",
    "    def get_laptop_from_id_fast(self, laptop_id):\n",
    "        if laptop_id in self.id_to_row:\n",
    "            return self.id_to_row[laptop_id]\n",
    "        return None\n",
    "    \n",
    "inventory = Inventory('laptops.csv')\n",
    "print(inventory.get_laptop_from_id_fast('3362737'))\n",
    "print(inventory.get_laptop_from_id_fast('3362736'))"
   ]
  },
  {
   "cell_type": "markdown",
   "metadata": {},
   "source": [
    "## Comparing the Performance\n",
    "\n",
    "The `get_laptop_from_id()` method has time complexity *O(R)* where *R* is the number of rows. In contrast, the new implementation as time complexity *O(1)*. It does so by using more memory to store the `self.id_to_row` dictionary and using a bit more time creating an instance (because it needs to create the dictionary).\n",
    "\n",
    "Let's experiment to compare the performance of the two methods. The idea is to generate random IDs using the `random` module. Then, use both methods to lookup these same IDs. We will use the `time` module to measure the execution time of each lookup and, for each method, add all times together."
   ]
  },
  {
   "cell_type": "code",
   "execution_count": 5,
   "metadata": {},
   "outputs": [
    {
     "name": "stdout",
     "output_type": "stream",
     "text": [
      "1.1013686656951904\n",
      "0.004996299743652344\n"
     ]
    }
   ],
   "source": [
    "import time\n",
    "import random \n",
    "\n",
    "ids = [str(random.randint(1000000, 9999999)) for _ in range(10000)]\n",
    "\n",
    "inventory = Inventory('laptops.csv')\n",
    "\n",
    "total_time_no_dict = 0\n",
    "\n",
    "for each_id in ids:\n",
    "    start = time.time()\n",
    "    inventory.get_laptop_from_id(each_id)\n",
    "    end = time.time()\n",
    "    runtime = end - start\n",
    "    total_time_no_dict += runtime\n",
    "\n",
    "total_time_dict = 0\n",
    "\n",
    "for each_id in ids:\n",
    "    start = time.time()\n",
    "    inventory.get_laptop_from_id_fast(each_id)\n",
    "    end = time.time()\n",
    "    runtime = end - start\n",
    "    total_time_dict += runtime\n",
    "\n",
    "print(total_time_no_dict)\n",
    "print(total_time_dict)"
   ]
  },
  {
   "attachments": {},
   "cell_type": "markdown",
   "metadata": {},
   "source": [
    "The get_laptop_from_id_fast() method is significantly faster than the get_laptop_from_id() one. It is about 453 times faster!\n",
    "\n",
    "## Two Laptop Promotion\n",
    "\n",
    "Sometimes, the store offers a promotion where you give a gift card. A customer can use the gift to buy up to two laptops. To avoid having to keep track of what was already spent, the gift card has a single time usage. This means that, even if there is leftover money, it cannot be used anymore.\n",
    "\n",
    "For example, imagine that there are only three laptops in inventory:\n",
    "\n",
    "![](https://dq-content.s3.amazonaws.com/481/laptop_promotion.png)\n",
    "\n",
    "The prices of these laptops are 1,339, 898, and 575 (in $ amounts). Say we offered a gift card of 2,500. Since a customer can buy, at most, two laptops with a gift card, the maximum they can spend is 2,237 (1,339 plus 898). Therefore, they might feel cheated because, no matter how they spend their gift card, they cannot spend the full 2,500.\n",
    "\n",
    "Since we don't want to make a customer feel cheated, whenever we issue a gift card, we want to make sure that there is at least one way to spend it in full. In other words, before issuing a gift card for *D* dollars, we want to make sure that either there is a laptop that costs exactly *D* dollars or two laptops whose costs add up to precisely *D* dollars.\n",
    "\n",
    "We write a function that, given a dollar amount, checks whether it is possible to spend precisely that amount by purchasing up to two laptops."
   ]
  },
  {
   "cell_type": "code",
   "execution_count": 6,
   "metadata": {},
   "outputs": [
    {
     "name": "stdout",
     "output_type": "stream",
     "text": [
      "True\n",
      "False\n"
     ]
    }
   ],
   "source": [
    "class Inventory():\n",
    "    def __init__(self, csv_filename):\n",
    "        with open(csv_filename) as f: \n",
    "            reader = csv.reader(f)\n",
    "            rows = list(csv.reader(f))\n",
    "        self.header = rows[0]         \n",
    "        self.rows = rows[1:]\n",
    "        for row in self.rows:         \n",
    "            row[-1] = int(row[-1])\n",
    "        self.id_to_row = {}   \n",
    "        for row in self.rows:\n",
    "            self.id_to_row[row[0]] = row\n",
    "    \n",
    "    def get_laptop_from_id(self, laptop_id):\n",
    "        for row in self.rows:\n",
    "            if row[0] == laptop_id:\n",
    "                return row\n",
    "        return None\n",
    "    \n",
    "    def get_laptop_from_id_fast(self, laptop_id):\n",
    "        if laptop_id in self.id_to_row:\n",
    "            return self.id_to_row[laptop_id]\n",
    "        return None\n",
    "    \n",
    "    def check_promotion_dollars(self, dollars):\n",
    "        for row in self.rows:\n",
    "            if row[-1] == dollars:\n",
    "                return True\n",
    "        for row in rows:\n",
    "            for row in rows:\n",
    "                price_added = row[-1] + row[-1]\n",
    "                if price_added == dollars:\n",
    "                    return True\n",
    "        return False\n",
    "    \n",
    "inventory = Inventory('laptops.csv')\n",
    "print(inventory.check_promotion_dollars(1000))\n",
    "print(inventory.check_promotion_dollars(442))"
   ]
  },
  {
   "cell_type": "markdown",
   "metadata": {},
   "source": [
    "## Optimizing Laptop Promotion\n",
    "\n",
    "Earlier, we preprocessed data to answer the kind of queries that we used in the `check_promotion_dollars()`. Let's implement this to make our code run faster.\n",
    "\n",
    "Since we only care about whether or not there is a solution, we can store all laptops prices in a set when we initialize the inventory. Then we can check in constant time whether there is a laptop with a given price."
   ]
  },
  {
   "cell_type": "code",
   "execution_count": 7,
   "metadata": {},
   "outputs": [
    {
     "name": "stdout",
     "output_type": "stream",
     "text": [
      "True\n",
      "False\n"
     ]
    }
   ],
   "source": [
    "class Inventory():\n",
    "    def __init__(self, csv_filename):\n",
    "        with open(csv_filename) as f: \n",
    "            reader = csv.reader(f)\n",
    "            rows = list(csv.reader(f))\n",
    "        self.header = rows[0]         \n",
    "        self.rows = rows[1:]\n",
    "        for row in self.rows:         \n",
    "            row[-1] = int(row[-1])\n",
    "        self.id_to_row = {}   \n",
    "        for row in self.rows:\n",
    "            self.id_to_row[row[0]] = row\n",
    "        self.prices = set()\n",
    "        for row in self.rows:\n",
    "            self.prices.add(row[-1])\n",
    "    \n",
    "    def get_laptop_from_id(self, laptop_id):\n",
    "        for row in self.rows:\n",
    "            if row[0] == laptop_id:\n",
    "                return row\n",
    "        return None\n",
    "    \n",
    "    def get_laptop_from_id_fast(self, laptop_id):\n",
    "        if laptop_id in self.id_to_row:\n",
    "            return self.id_to_row[laptop_id]\n",
    "        return None\n",
    "    \n",
    "    def check_promotion_dollars(self, dollars):\n",
    "        for row in self.rows:\n",
    "            if row[-1] == dollars:\n",
    "                return True\n",
    "        for row in rows:\n",
    "            for row in rows:\n",
    "                price_added = row[-1] + row[-1]\n",
    "                if price_added == dollars:\n",
    "                    return True\n",
    "        return False\n",
    "    \n",
    "    def check_promotion_dollars_fast(self, dollars):\n",
    "        if self.prices == dollars:\n",
    "            return True\n",
    "        for price in self.prices:                   \n",
    "            if dollars - price in self.prices:\n",
    "                return True\n",
    "        return False  \n",
    "    \n",
    "inventory = Inventory('laptops.csv')\n",
    "print(inventory.check_promotion_dollars(1000))\n",
    "print(inventory.check_promotion_dollars(442))"
   ]
  },
  {
   "cell_type": "markdown",
   "metadata": {},
   "source": [
    "## Comparing Promotion Functions\n",
    "\n",
    "Let's compare the performance of the last two functions that we wrote."
   ]
  },
  {
   "cell_type": "code",
   "execution_count": 8,
   "metadata": {},
   "outputs": [
    {
     "name": "stdout",
     "output_type": "stream",
     "text": [
      "28.8175528049469\n",
      "0.0009996891021728516\n"
     ]
    }
   ],
   "source": [
    "prices = [random.randint(100, 5000) for _ in range(100)]\n",
    "\n",
    "inventory = Inventory('laptops.csv')\n",
    "\n",
    "total_time_no_set = 0\n",
    "\n",
    "for price in prices:\n",
    "    start = time.time()\n",
    "    inventory.check_promotion_dollars(price)\n",
    "    end = time.time()\n",
    "    runtime = end - start\n",
    "    total_time_no_set += runtime\n",
    "\n",
    "total_time_set = 0\n",
    "\n",
    "for price in prices:\n",
    "    start = time.time()\n",
    "    inventory.check_promotion_dollars_fast(price)\n",
    "    end = time.time()\n",
    "    runtime = end - start\n",
    "    total_time_set += runtime\n",
    "\n",
    "print(total_time_no_set)\n",
    "print(total_time_set)"
   ]
  },
  {
   "cell_type": "markdown",
   "metadata": {},
   "source": [
    "We can see a significant improve in performance. The `check_promotion_dollars_fast()` method is 28826 times faster than the `check_promotion_dollars()` one.\n",
    "\n",
    "## Finding Laptops Within a Budget\n",
    "\n",
    "In this project, we are going to leverage and extend  a binary search algorithm to help a customer find all laptops that fall within their budget.\n",
    "\n",
    "More formally, we want to write a method that efficiently answers the query: \"Given a budget of *D* dollars, find all laptops whose price it at most *D*\".\n",
    "\n",
    "If we sort all laptops by price, we can use binary search to identify the first laptop in the sorted list with a price larger than *D*. We need to make sure that our binary search finds the *first one* on the list. Then, the result of the query will consist of all laptops whose index in the sorted list is smaller than the index of the first laptop whose price is higher than *D* dollars:\n",
    "\n",
    "![](https://dq-content.s3.amazonaws.com/481/laptop_budget.png)"
   ]
  },
  {
   "cell_type": "code",
   "execution_count": 9,
   "metadata": {},
   "outputs": [
    {
     "name": "stdout",
     "output_type": "stream",
     "text": [
      "683\n",
      "-1\n"
     ]
    }
   ],
   "source": [
    "def row_price(row):\n",
    "    return row[-1]\n",
    "\n",
    "class Inventory():\n",
    "    def __init__(self, csv_filename):\n",
    "        with open(csv_filename) as f: \n",
    "            rows = list(csv.reader(f))\n",
    "        self.header = rows[0]         \n",
    "        self.rows = rows[1:]\n",
    "        for row in self.rows:         \n",
    "            row[-1] = int(row[-1])\n",
    "        self.id_to_row = {}   \n",
    "        for row in self.rows:\n",
    "            self.id_to_row[row[0]] = row\n",
    "        self.prices = set()\n",
    "        for row in self.rows:\n",
    "            self.prices.add(row[-1])\n",
    "        self.rows_by_price = sorted(self.rows, key=row_price)\n",
    "    \n",
    "    def get_laptop_from_id(self, laptop_id):\n",
    "        for row in self.rows:\n",
    "            if row[0] == laptop_id:\n",
    "                return row\n",
    "        return None\n",
    "    \n",
    "    def get_laptop_from_id_fast(self, laptop_id):\n",
    "        if laptop_id in self.id_to_row:\n",
    "            return self.id_to_row[laptop_id]\n",
    "        return None\n",
    "    \n",
    "    def check_promotion_dollars(self, dollars):\n",
    "        for row in self.rows:\n",
    "            if row[-1] == dollars:\n",
    "                return True\n",
    "        for row in rows:\n",
    "            for row in rows:\n",
    "                price_added = row[-1] + row[-1]\n",
    "                if price_added == dollars:\n",
    "                    return True\n",
    "        return False\n",
    "    \n",
    "    def check_promotion_dollars_fast(self, dollars):\n",
    "        if self.prices == dollars:\n",
    "            return True\n",
    "        for price in self.prices:                   \n",
    "            if dollars - price in self.prices:\n",
    "                return True\n",
    "        return False  \n",
    "    \n",
    "    def find_first_laptop_more_expensive(self, target_price):\n",
    "        range_start = 0                                   \n",
    "        range_end = len(self.rows_by_price) - 1                       \n",
    "        while range_start < range_end:\n",
    "            range_middle = (range_end + range_start) // 2  \n",
    "            price = self.rows_by_price[range_middle][-1]\n",
    "            if price > target_price:                            \n",
    "                range_end = range_middle                                   \n",
    "            else:                                          \n",
    "                range_start = range_middle + 1 \n",
    "        price = self.rows_by_price[range_start][-1]\n",
    "        if price <= target_price:                  \n",
    "            return -1                                      \n",
    "        return range_start\n",
    "    \n",
    "inventory = Inventory('laptops.csv')\n",
    "print(inventory.find_first_laptop_more_expensive(1000))\n",
    "print(inventory.find_first_laptop_more_expensive(10000))"
   ]
  }
 ],
 "metadata": {
  "kernelspec": {
   "display_name": "Python 3",
   "language": "python",
   "name": "python3"
  },
  "language_info": {
   "codemirror_mode": {
    "name": "ipython",
    "version": 3
   },
   "file_extension": ".py",
   "mimetype": "text/x-python",
   "name": "python",
   "nbconvert_exporter": "python",
   "pygments_lexer": "ipython3",
   "version": "3.7.6"
  }
 },
 "nbformat": 4,
 "nbformat_minor": 4
}
